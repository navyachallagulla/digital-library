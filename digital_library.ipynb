{
  "cells": [
    {
      "cell_type": "code",
      "execution_count": null,
      "metadata": {
        "id": "oo7EbeK1gf0V"
      },
      "outputs": [],
      "source": [
        "import pandas as pd\n",
        "\n",
        "import matplotlib.pyplot as plt \n",
        "import seaborn as sbn\n",
        "from sklearn import preprocessing\n"
      ]
    },
    {
      "cell_type": "code",
      "execution_count": null,
      "metadata": {
        "id": "n8PE5LxfgsE6",
        "colab": {
          "base_uri": "https://localhost:8080/"
        },
        "outputId": "b17723b9-23eb-416b-b3f1-4f9f871d9086"
      },
      "outputs": [
        {
          "output_type": "stream",
          "name": "stdout",
          "text": [
            "Drive already mounted at /content/drive; to attempt to forcibly remount, call drive.mount(\"/content/drive\", force_remount=True).\n"
          ]
        }
      ],
      "source": [
        "from google.colab import drive\n",
        "drive.mount('/content/drive')\n",
        "df = pd.read_csv('./drive/MyDrive/google_books_data_response.csv')"
      ]
    },
    {
      "cell_type": "code",
      "execution_count": null,
      "metadata": {
        "colab": {
          "base_uri": "https://localhost:8080/",
          "height": 441
        },
        "id": "W-2CdS2LhPt3",
        "outputId": "859103d0-9dec-4f99-c68b-c77fe3dd55eb"
      },
      "outputs": [
        {
          "output_type": "execute_result",
          "data": {
            "text/plain": [
              "   student_id                                             title  \\\n",
              "0           0                        Attack on Titan: Volume 13   \n",
              "1           1  Antiques Roadkill: A Trash 'n' Treasures Mystery   \n",
              "2           2                    The Art of Super Mario Odyssey   \n",
              "3           3    Getting Away Is Deadly: An Ellie Avery Mystery   \n",
              "4           4         The Painted Man (The Demon Cycle, Book 1)   \n",
              "\n",
              "           author  rating voters  \\\n",
              "0  Hajime Isayama     4.6    428   \n",
              "1   Barbara Allan     3.3     23   \n",
              "2        Nintendo     3.9      9   \n",
              "3     Sara Rosett     4.0     10   \n",
              "4  Peter V. Brett     4.5    577   \n",
              "\n",
              "                                         description  \\\n",
              "0  NO SAFE PLACE LEFT At great cost to the Garris...   \n",
              "1  Determined to make a new start in her quaint h...   \n",
              "2  Take a globetrotting journey all over the worl...   \n",
              "3  With swollen feet and swelling belly, pregnant...   \n",
              "4  The stunning debut fantasy novel from author P...   \n",
              "\n",
              "                     publisher  page_count  \\\n",
              "0              Kodansha Comics       192.0   \n",
              "1  Kensington Publishing Corp.       288.0   \n",
              "2            Dark Horse Comics       368.0   \n",
              "3  Kensington Publishing Corp.       320.0   \n",
              "4             HarperCollins UK       544.0   \n",
              "\n",
              "                                             generes      ISBN language  \\\n",
              "0                                               none  9.78E+12  English   \n",
              "1  Fiction , Mystery &amp, Detective , Cozy , Gen...  9.78E+12  English   \n",
              "2    Games &amp, Activities , Video &amp, Electronic  9.78E+12  English   \n",
              "3                                               none  9.78E+12  English   \n",
              "4                   Fiction , Fantasy , Dark Fantasy  9.78E+12  English   \n",
              "\n",
              "  published_date student_perfomance_grade improvement  \n",
              "0      31-Jul-14                        A         yes  \n",
              "1      01-Jul-07                        A         yes  \n",
              "2      05-Nov-19                        B         yes  \n",
              "3      01-Mar-09                        A         yes  \n",
              "4      08-Jan-09                        C         yes  "
            ],
            "text/html": [
              "\n",
              "  <div id=\"df-d9b8393b-a1f4-46a4-b2ca-2fb66c8a1c16\">\n",
              "    <div class=\"colab-df-container\">\n",
              "      <div>\n",
              "<style scoped>\n",
              "    .dataframe tbody tr th:only-of-type {\n",
              "        vertical-align: middle;\n",
              "    }\n",
              "\n",
              "    .dataframe tbody tr th {\n",
              "        vertical-align: top;\n",
              "    }\n",
              "\n",
              "    .dataframe thead th {\n",
              "        text-align: right;\n",
              "    }\n",
              "</style>\n",
              "<table border=\"1\" class=\"dataframe\">\n",
              "  <thead>\n",
              "    <tr style=\"text-align: right;\">\n",
              "      <th></th>\n",
              "      <th>student_id</th>\n",
              "      <th>title</th>\n",
              "      <th>author</th>\n",
              "      <th>rating</th>\n",
              "      <th>voters</th>\n",
              "      <th>description</th>\n",
              "      <th>publisher</th>\n",
              "      <th>page_count</th>\n",
              "      <th>generes</th>\n",
              "      <th>ISBN</th>\n",
              "      <th>language</th>\n",
              "      <th>published_date</th>\n",
              "      <th>student_perfomance_grade</th>\n",
              "      <th>improvement</th>\n",
              "    </tr>\n",
              "  </thead>\n",
              "  <tbody>\n",
              "    <tr>\n",
              "      <th>0</th>\n",
              "      <td>0</td>\n",
              "      <td>Attack on Titan: Volume 13</td>\n",
              "      <td>Hajime Isayama</td>\n",
              "      <td>4.6</td>\n",
              "      <td>428</td>\n",
              "      <td>NO SAFE PLACE LEFT At great cost to the Garris...</td>\n",
              "      <td>Kodansha Comics</td>\n",
              "      <td>192.0</td>\n",
              "      <td>none</td>\n",
              "      <td>9.78E+12</td>\n",
              "      <td>English</td>\n",
              "      <td>31-Jul-14</td>\n",
              "      <td>A</td>\n",
              "      <td>yes</td>\n",
              "    </tr>\n",
              "    <tr>\n",
              "      <th>1</th>\n",
              "      <td>1</td>\n",
              "      <td>Antiques Roadkill: A Trash 'n' Treasures Mystery</td>\n",
              "      <td>Barbara Allan</td>\n",
              "      <td>3.3</td>\n",
              "      <td>23</td>\n",
              "      <td>Determined to make a new start in her quaint h...</td>\n",
              "      <td>Kensington Publishing Corp.</td>\n",
              "      <td>288.0</td>\n",
              "      <td>Fiction , Mystery &amp;amp, Detective , Cozy , Gen...</td>\n",
              "      <td>9.78E+12</td>\n",
              "      <td>English</td>\n",
              "      <td>01-Jul-07</td>\n",
              "      <td>A</td>\n",
              "      <td>yes</td>\n",
              "    </tr>\n",
              "    <tr>\n",
              "      <th>2</th>\n",
              "      <td>2</td>\n",
              "      <td>The Art of Super Mario Odyssey</td>\n",
              "      <td>Nintendo</td>\n",
              "      <td>3.9</td>\n",
              "      <td>9</td>\n",
              "      <td>Take a globetrotting journey all over the worl...</td>\n",
              "      <td>Dark Horse Comics</td>\n",
              "      <td>368.0</td>\n",
              "      <td>Games &amp;amp, Activities , Video &amp;amp, Electronic</td>\n",
              "      <td>9.78E+12</td>\n",
              "      <td>English</td>\n",
              "      <td>05-Nov-19</td>\n",
              "      <td>B</td>\n",
              "      <td>yes</td>\n",
              "    </tr>\n",
              "    <tr>\n",
              "      <th>3</th>\n",
              "      <td>3</td>\n",
              "      <td>Getting Away Is Deadly: An Ellie Avery Mystery</td>\n",
              "      <td>Sara Rosett</td>\n",
              "      <td>4.0</td>\n",
              "      <td>10</td>\n",
              "      <td>With swollen feet and swelling belly, pregnant...</td>\n",
              "      <td>Kensington Publishing Corp.</td>\n",
              "      <td>320.0</td>\n",
              "      <td>none</td>\n",
              "      <td>9.78E+12</td>\n",
              "      <td>English</td>\n",
              "      <td>01-Mar-09</td>\n",
              "      <td>A</td>\n",
              "      <td>yes</td>\n",
              "    </tr>\n",
              "    <tr>\n",
              "      <th>4</th>\n",
              "      <td>4</td>\n",
              "      <td>The Painted Man (The Demon Cycle, Book 1)</td>\n",
              "      <td>Peter V. Brett</td>\n",
              "      <td>4.5</td>\n",
              "      <td>577</td>\n",
              "      <td>The stunning debut fantasy novel from author P...</td>\n",
              "      <td>HarperCollins UK</td>\n",
              "      <td>544.0</td>\n",
              "      <td>Fiction , Fantasy , Dark Fantasy</td>\n",
              "      <td>9.78E+12</td>\n",
              "      <td>English</td>\n",
              "      <td>08-Jan-09</td>\n",
              "      <td>C</td>\n",
              "      <td>yes</td>\n",
              "    </tr>\n",
              "  </tbody>\n",
              "</table>\n",
              "</div>\n",
              "      <button class=\"colab-df-convert\" onclick=\"convertToInteractive('df-d9b8393b-a1f4-46a4-b2ca-2fb66c8a1c16')\"\n",
              "              title=\"Convert this dataframe to an interactive table.\"\n",
              "              style=\"display:none;\">\n",
              "        \n",
              "  <svg xmlns=\"http://www.w3.org/2000/svg\" height=\"24px\"viewBox=\"0 0 24 24\"\n",
              "       width=\"24px\">\n",
              "    <path d=\"M0 0h24v24H0V0z\" fill=\"none\"/>\n",
              "    <path d=\"M18.56 5.44l.94 2.06.94-2.06 2.06-.94-2.06-.94-.94-2.06-.94 2.06-2.06.94zm-11 1L8.5 8.5l.94-2.06 2.06-.94-2.06-.94L8.5 2.5l-.94 2.06-2.06.94zm10 10l.94 2.06.94-2.06 2.06-.94-2.06-.94-.94-2.06-.94 2.06-2.06.94z\"/><path d=\"M17.41 7.96l-1.37-1.37c-.4-.4-.92-.59-1.43-.59-.52 0-1.04.2-1.43.59L10.3 9.45l-7.72 7.72c-.78.78-.78 2.05 0 2.83L4 21.41c.39.39.9.59 1.41.59.51 0 1.02-.2 1.41-.59l7.78-7.78 2.81-2.81c.8-.78.8-2.07 0-2.86zM5.41 20L4 18.59l7.72-7.72 1.47 1.35L5.41 20z\"/>\n",
              "  </svg>\n",
              "      </button>\n",
              "      \n",
              "  <style>\n",
              "    .colab-df-container {\n",
              "      display:flex;\n",
              "      flex-wrap:wrap;\n",
              "      gap: 12px;\n",
              "    }\n",
              "\n",
              "    .colab-df-convert {\n",
              "      background-color: #E8F0FE;\n",
              "      border: none;\n",
              "      border-radius: 50%;\n",
              "      cursor: pointer;\n",
              "      display: none;\n",
              "      fill: #1967D2;\n",
              "      height: 32px;\n",
              "      padding: 0 0 0 0;\n",
              "      width: 32px;\n",
              "    }\n",
              "\n",
              "    .colab-df-convert:hover {\n",
              "      background-color: #E2EBFA;\n",
              "      box-shadow: 0px 1px 2px rgba(60, 64, 67, 0.3), 0px 1px 3px 1px rgba(60, 64, 67, 0.15);\n",
              "      fill: #174EA6;\n",
              "    }\n",
              "\n",
              "    [theme=dark] .colab-df-convert {\n",
              "      background-color: #3B4455;\n",
              "      fill: #D2E3FC;\n",
              "    }\n",
              "\n",
              "    [theme=dark] .colab-df-convert:hover {\n",
              "      background-color: #434B5C;\n",
              "      box-shadow: 0px 1px 3px 1px rgba(0, 0, 0, 0.15);\n",
              "      filter: drop-shadow(0px 1px 2px rgba(0, 0, 0, 0.3));\n",
              "      fill: #FFFFFF;\n",
              "    }\n",
              "  </style>\n",
              "\n",
              "      <script>\n",
              "        const buttonEl =\n",
              "          document.querySelector('#df-d9b8393b-a1f4-46a4-b2ca-2fb66c8a1c16 button.colab-df-convert');\n",
              "        buttonEl.style.display =\n",
              "          google.colab.kernel.accessAllowed ? 'block' : 'none';\n",
              "\n",
              "        async function convertToInteractive(key) {\n",
              "          const element = document.querySelector('#df-d9b8393b-a1f4-46a4-b2ca-2fb66c8a1c16');\n",
              "          const dataTable =\n",
              "            await google.colab.kernel.invokeFunction('convertToInteractive',\n",
              "                                                     [key], {});\n",
              "          if (!dataTable) return;\n",
              "\n",
              "          const docLinkHtml = 'Like what you see? Visit the ' +\n",
              "            '<a target=\"_blank\" href=https://colab.research.google.com/notebooks/data_table.ipynb>data table notebook</a>'\n",
              "            + ' to learn more about interactive tables.';\n",
              "          element.innerHTML = '';\n",
              "          dataTable['output_type'] = 'display_data';\n",
              "          await google.colab.output.renderOutput(dataTable, element);\n",
              "          const docLink = document.createElement('div');\n",
              "          docLink.innerHTML = docLinkHtml;\n",
              "          element.appendChild(docLink);\n",
              "        }\n",
              "      </script>\n",
              "    </div>\n",
              "  </div>\n",
              "  "
            ]
          },
          "metadata": {},
          "execution_count": 850
        }
      ],
      "source": [
        "df.head()"
      ]
    },
    {
      "cell_type": "code",
      "execution_count": null,
      "metadata": {
        "colab": {
          "base_uri": "https://localhost:8080/"
        },
        "id": "g9I2etCCh7Ew",
        "outputId": "35d57543-6813-49a7-9ff3-7fc5cb3d83f5"
      },
      "outputs": [
        {
          "output_type": "execute_result",
          "data": {
            "text/plain": [
              "(1299, 14)"
            ]
          },
          "metadata": {},
          "execution_count": 851
        }
      ],
      "source": [
        "df.shape"
      ]
    },
    {
      "cell_type": "code",
      "execution_count": null,
      "metadata": {
        "colab": {
          "base_uri": "https://localhost:8080/"
        },
        "id": "r1XzuKJShSnQ",
        "outputId": "4549a970-54cd-4d1c-d6be-8156773a1efe"
      },
      "outputs": [
        {
          "output_type": "execute_result",
          "data": {
            "text/plain": [
              "student_id                   0\n",
              "title                        0\n",
              "author                       0\n",
              "rating                      74\n",
              "voters                      75\n",
              "description                  3\n",
              "publisher                    0\n",
              "page_count                   0\n",
              "generes                      0\n",
              "ISBN                         0\n",
              "language                     0\n",
              "published_date               0\n",
              "student_perfomance_grade     0\n",
              "improvement                  0\n",
              "dtype: int64"
            ]
          },
          "metadata": {},
          "execution_count": 852
        }
      ],
      "source": [
        "df.isnull().sum()"
      ]
    },
    {
      "cell_type": "code",
      "execution_count": null,
      "metadata": {
        "colab": {
          "base_uri": "https://localhost:8080/"
        },
        "id": "6vlmGJeKhmPY",
        "outputId": "b6e4ff59-cc3c-4e0c-963e-e5276d7e83ac"
      },
      "outputs": [
        {
          "output_type": "execute_result",
          "data": {
            "text/plain": [
              "student_id                   0\n",
              "title                        0\n",
              "author                       0\n",
              "rating                      74\n",
              "voters                      75\n",
              "description                  3\n",
              "publisher                    0\n",
              "page_count                   0\n",
              "generes                      0\n",
              "ISBN                         0\n",
              "language                     0\n",
              "published_date               0\n",
              "student_perfomance_grade     0\n",
              "improvement                  0\n",
              "dtype: int64"
            ]
          },
          "metadata": {},
          "execution_count": 853
        }
      ],
      "source": [
        "df.isna().sum()"
      ]
    },
    {
      "cell_type": "code",
      "execution_count": null,
      "metadata": {
        "colab": {
          "base_uri": "https://localhost:8080/",
          "height": 641
        },
        "id": "u853QfgZik23",
        "outputId": "a18af739-37bd-42ba-c1eb-78db8bb0ab65"
      },
      "outputs": [
        {
          "output_type": "execute_result",
          "data": {
            "text/plain": [
              "      student_id                                              title  \\\n",
              "0              0                         Attack on Titan: Volume 13   \n",
              "1              1   Antiques Roadkill: A Trash 'n' Treasures Mystery   \n",
              "2              2                     The Art of Super Mario Odyssey   \n",
              "3              3     Getting Away Is Deadly: An Ellie Avery Mystery   \n",
              "4              4          The Painted Man (The Demon Cycle, Book 1)   \n",
              "...          ...                                                ...   \n",
              "1294        1294  Twas The Nightshift Before Christmas: Festive ...   \n",
              "1295        1295  Why We Sleep: The New Science of Sleep and Dreams   \n",
              "1296        1296      How to Understand Business Finance: Edition 2   \n",
              "1297        1297                     Spider-Man: Kraven's Last Hunt   \n",
              "1298        1298           W is for Wasted: A Kinsey Millhone Novel   \n",
              "\n",
              "               author                    publisher  page_count  \\\n",
              "0      Hajime Isayama              Kodansha Comics       192.0   \n",
              "1       Barbara Allan  Kensington Publishing Corp.       288.0   \n",
              "2            Nintendo            Dark Horse Comics       368.0   \n",
              "3         Sara Rosett  Kensington Publishing Corp.       320.0   \n",
              "4      Peter V. Brett             HarperCollins UK       544.0   \n",
              "...               ...                          ...         ...   \n",
              "1294         Adam Kay                Pan Macmillan       112.0   \n",
              "1295   Matthew Walker                   Penguin UK       368.0   \n",
              "1296     Bob Cinnamon        Kogan Page Publishers       176.0   \n",
              "1297  J. M. DeMatteis         Marvel Entertainment       168.0   \n",
              "1298      Sue Grafton                      Penguin       448.0   \n",
              "\n",
              "                                                generes      ISBN language  \\\n",
              "0                                                  none  9.78E+12  English   \n",
              "1     Fiction , Mystery &amp, Detective , Cozy , Gen...  9.78E+12  English   \n",
              "2       Games &amp, Activities , Video &amp, Electronic  9.78E+12  English   \n",
              "3                                                  none  9.78E+12  English   \n",
              "4                      Fiction , Fantasy , Dark Fantasy  9.78E+12  English   \n",
              "...                                                 ...       ...      ...   \n",
              "1294                     Medical , Health Care Delivery  9.78E+12  English   \n",
              "1295  Psychology , Cognitive Psychology &amp, Cognition  9.78E+12  English   \n",
              "1296                                               none  9.78E+12  English   \n",
              "1297                                               none  9.78E+12  English   \n",
              "1298                     Fiction , Thrillers , Suspense  9.78E+12  English   \n",
              "\n",
              "     published_date student_perfomance_grade improvement  \n",
              "0         31-Jul-14                        A         yes  \n",
              "1         01-Jul-07                        A         yes  \n",
              "2         05-Nov-19                        B         yes  \n",
              "3         01-Mar-09                        A         yes  \n",
              "4         08-Jan-09                        C         yes  \n",
              "...             ...                      ...         ...  \n",
              "1294      17-Oct-19                        A          no  \n",
              "1295      28-Sep-17                        A          no  \n",
              "1296      03-Apr-10                        E          no  \n",
              "1297      10-Dec-14                        B         yes  \n",
              "1298      10-Sep-13                        A          no  \n",
              "\n",
              "[1299 rows x 11 columns]"
            ],
            "text/html": [
              "\n",
              "  <div id=\"df-08fbbff5-70b1-4c1f-a238-5e019a119828\">\n",
              "    <div class=\"colab-df-container\">\n",
              "      <div>\n",
              "<style scoped>\n",
              "    .dataframe tbody tr th:only-of-type {\n",
              "        vertical-align: middle;\n",
              "    }\n",
              "\n",
              "    .dataframe tbody tr th {\n",
              "        vertical-align: top;\n",
              "    }\n",
              "\n",
              "    .dataframe thead th {\n",
              "        text-align: right;\n",
              "    }\n",
              "</style>\n",
              "<table border=\"1\" class=\"dataframe\">\n",
              "  <thead>\n",
              "    <tr style=\"text-align: right;\">\n",
              "      <th></th>\n",
              "      <th>student_id</th>\n",
              "      <th>title</th>\n",
              "      <th>author</th>\n",
              "      <th>publisher</th>\n",
              "      <th>page_count</th>\n",
              "      <th>generes</th>\n",
              "      <th>ISBN</th>\n",
              "      <th>language</th>\n",
              "      <th>published_date</th>\n",
              "      <th>student_perfomance_grade</th>\n",
              "      <th>improvement</th>\n",
              "    </tr>\n",
              "  </thead>\n",
              "  <tbody>\n",
              "    <tr>\n",
              "      <th>0</th>\n",
              "      <td>0</td>\n",
              "      <td>Attack on Titan: Volume 13</td>\n",
              "      <td>Hajime Isayama</td>\n",
              "      <td>Kodansha Comics</td>\n",
              "      <td>192.0</td>\n",
              "      <td>none</td>\n",
              "      <td>9.78E+12</td>\n",
              "      <td>English</td>\n",
              "      <td>31-Jul-14</td>\n",
              "      <td>A</td>\n",
              "      <td>yes</td>\n",
              "    </tr>\n",
              "    <tr>\n",
              "      <th>1</th>\n",
              "      <td>1</td>\n",
              "      <td>Antiques Roadkill: A Trash 'n' Treasures Mystery</td>\n",
              "      <td>Barbara Allan</td>\n",
              "      <td>Kensington Publishing Corp.</td>\n",
              "      <td>288.0</td>\n",
              "      <td>Fiction , Mystery &amp;amp, Detective , Cozy , Gen...</td>\n",
              "      <td>9.78E+12</td>\n",
              "      <td>English</td>\n",
              "      <td>01-Jul-07</td>\n",
              "      <td>A</td>\n",
              "      <td>yes</td>\n",
              "    </tr>\n",
              "    <tr>\n",
              "      <th>2</th>\n",
              "      <td>2</td>\n",
              "      <td>The Art of Super Mario Odyssey</td>\n",
              "      <td>Nintendo</td>\n",
              "      <td>Dark Horse Comics</td>\n",
              "      <td>368.0</td>\n",
              "      <td>Games &amp;amp, Activities , Video &amp;amp, Electronic</td>\n",
              "      <td>9.78E+12</td>\n",
              "      <td>English</td>\n",
              "      <td>05-Nov-19</td>\n",
              "      <td>B</td>\n",
              "      <td>yes</td>\n",
              "    </tr>\n",
              "    <tr>\n",
              "      <th>3</th>\n",
              "      <td>3</td>\n",
              "      <td>Getting Away Is Deadly: An Ellie Avery Mystery</td>\n",
              "      <td>Sara Rosett</td>\n",
              "      <td>Kensington Publishing Corp.</td>\n",
              "      <td>320.0</td>\n",
              "      <td>none</td>\n",
              "      <td>9.78E+12</td>\n",
              "      <td>English</td>\n",
              "      <td>01-Mar-09</td>\n",
              "      <td>A</td>\n",
              "      <td>yes</td>\n",
              "    </tr>\n",
              "    <tr>\n",
              "      <th>4</th>\n",
              "      <td>4</td>\n",
              "      <td>The Painted Man (The Demon Cycle, Book 1)</td>\n",
              "      <td>Peter V. Brett</td>\n",
              "      <td>HarperCollins UK</td>\n",
              "      <td>544.0</td>\n",
              "      <td>Fiction , Fantasy , Dark Fantasy</td>\n",
              "      <td>9.78E+12</td>\n",
              "      <td>English</td>\n",
              "      <td>08-Jan-09</td>\n",
              "      <td>C</td>\n",
              "      <td>yes</td>\n",
              "    </tr>\n",
              "    <tr>\n",
              "      <th>...</th>\n",
              "      <td>...</td>\n",
              "      <td>...</td>\n",
              "      <td>...</td>\n",
              "      <td>...</td>\n",
              "      <td>...</td>\n",
              "      <td>...</td>\n",
              "      <td>...</td>\n",
              "      <td>...</td>\n",
              "      <td>...</td>\n",
              "      <td>...</td>\n",
              "      <td>...</td>\n",
              "    </tr>\n",
              "    <tr>\n",
              "      <th>1294</th>\n",
              "      <td>1294</td>\n",
              "      <td>Twas The Nightshift Before Christmas: Festive ...</td>\n",
              "      <td>Adam Kay</td>\n",
              "      <td>Pan Macmillan</td>\n",
              "      <td>112.0</td>\n",
              "      <td>Medical , Health Care Delivery</td>\n",
              "      <td>9.78E+12</td>\n",
              "      <td>English</td>\n",
              "      <td>17-Oct-19</td>\n",
              "      <td>A</td>\n",
              "      <td>no</td>\n",
              "    </tr>\n",
              "    <tr>\n",
              "      <th>1295</th>\n",
              "      <td>1295</td>\n",
              "      <td>Why We Sleep: The New Science of Sleep and Dreams</td>\n",
              "      <td>Matthew Walker</td>\n",
              "      <td>Penguin UK</td>\n",
              "      <td>368.0</td>\n",
              "      <td>Psychology , Cognitive Psychology &amp;amp, Cognition</td>\n",
              "      <td>9.78E+12</td>\n",
              "      <td>English</td>\n",
              "      <td>28-Sep-17</td>\n",
              "      <td>A</td>\n",
              "      <td>no</td>\n",
              "    </tr>\n",
              "    <tr>\n",
              "      <th>1296</th>\n",
              "      <td>1296</td>\n",
              "      <td>How to Understand Business Finance: Edition 2</td>\n",
              "      <td>Bob Cinnamon</td>\n",
              "      <td>Kogan Page Publishers</td>\n",
              "      <td>176.0</td>\n",
              "      <td>none</td>\n",
              "      <td>9.78E+12</td>\n",
              "      <td>English</td>\n",
              "      <td>03-Apr-10</td>\n",
              "      <td>E</td>\n",
              "      <td>no</td>\n",
              "    </tr>\n",
              "    <tr>\n",
              "      <th>1297</th>\n",
              "      <td>1297</td>\n",
              "      <td>Spider-Man: Kraven's Last Hunt</td>\n",
              "      <td>J. M. DeMatteis</td>\n",
              "      <td>Marvel Entertainment</td>\n",
              "      <td>168.0</td>\n",
              "      <td>none</td>\n",
              "      <td>9.78E+12</td>\n",
              "      <td>English</td>\n",
              "      <td>10-Dec-14</td>\n",
              "      <td>B</td>\n",
              "      <td>yes</td>\n",
              "    </tr>\n",
              "    <tr>\n",
              "      <th>1298</th>\n",
              "      <td>1298</td>\n",
              "      <td>W is for Wasted: A Kinsey Millhone Novel</td>\n",
              "      <td>Sue Grafton</td>\n",
              "      <td>Penguin</td>\n",
              "      <td>448.0</td>\n",
              "      <td>Fiction , Thrillers , Suspense</td>\n",
              "      <td>9.78E+12</td>\n",
              "      <td>English</td>\n",
              "      <td>10-Sep-13</td>\n",
              "      <td>A</td>\n",
              "      <td>no</td>\n",
              "    </tr>\n",
              "  </tbody>\n",
              "</table>\n",
              "<p>1299 rows × 11 columns</p>\n",
              "</div>\n",
              "      <button class=\"colab-df-convert\" onclick=\"convertToInteractive('df-08fbbff5-70b1-4c1f-a238-5e019a119828')\"\n",
              "              title=\"Convert this dataframe to an interactive table.\"\n",
              "              style=\"display:none;\">\n",
              "        \n",
              "  <svg xmlns=\"http://www.w3.org/2000/svg\" height=\"24px\"viewBox=\"0 0 24 24\"\n",
              "       width=\"24px\">\n",
              "    <path d=\"M0 0h24v24H0V0z\" fill=\"none\"/>\n",
              "    <path d=\"M18.56 5.44l.94 2.06.94-2.06 2.06-.94-2.06-.94-.94-2.06-.94 2.06-2.06.94zm-11 1L8.5 8.5l.94-2.06 2.06-.94-2.06-.94L8.5 2.5l-.94 2.06-2.06.94zm10 10l.94 2.06.94-2.06 2.06-.94-2.06-.94-.94-2.06-.94 2.06-2.06.94z\"/><path d=\"M17.41 7.96l-1.37-1.37c-.4-.4-.92-.59-1.43-.59-.52 0-1.04.2-1.43.59L10.3 9.45l-7.72 7.72c-.78.78-.78 2.05 0 2.83L4 21.41c.39.39.9.59 1.41.59.51 0 1.02-.2 1.41-.59l7.78-7.78 2.81-2.81c.8-.78.8-2.07 0-2.86zM5.41 20L4 18.59l7.72-7.72 1.47 1.35L5.41 20z\"/>\n",
              "  </svg>\n",
              "      </button>\n",
              "      \n",
              "  <style>\n",
              "    .colab-df-container {\n",
              "      display:flex;\n",
              "      flex-wrap:wrap;\n",
              "      gap: 12px;\n",
              "    }\n",
              "\n",
              "    .colab-df-convert {\n",
              "      background-color: #E8F0FE;\n",
              "      border: none;\n",
              "      border-radius: 50%;\n",
              "      cursor: pointer;\n",
              "      display: none;\n",
              "      fill: #1967D2;\n",
              "      height: 32px;\n",
              "      padding: 0 0 0 0;\n",
              "      width: 32px;\n",
              "    }\n",
              "\n",
              "    .colab-df-convert:hover {\n",
              "      background-color: #E2EBFA;\n",
              "      box-shadow: 0px 1px 2px rgba(60, 64, 67, 0.3), 0px 1px 3px 1px rgba(60, 64, 67, 0.15);\n",
              "      fill: #174EA6;\n",
              "    }\n",
              "\n",
              "    [theme=dark] .colab-df-convert {\n",
              "      background-color: #3B4455;\n",
              "      fill: #D2E3FC;\n",
              "    }\n",
              "\n",
              "    [theme=dark] .colab-df-convert:hover {\n",
              "      background-color: #434B5C;\n",
              "      box-shadow: 0px 1px 3px 1px rgba(0, 0, 0, 0.15);\n",
              "      filter: drop-shadow(0px 1px 2px rgba(0, 0, 0, 0.3));\n",
              "      fill: #FFFFFF;\n",
              "    }\n",
              "  </style>\n",
              "\n",
              "      <script>\n",
              "        const buttonEl =\n",
              "          document.querySelector('#df-08fbbff5-70b1-4c1f-a238-5e019a119828 button.colab-df-convert');\n",
              "        buttonEl.style.display =\n",
              "          google.colab.kernel.accessAllowed ? 'block' : 'none';\n",
              "\n",
              "        async function convertToInteractive(key) {\n",
              "          const element = document.querySelector('#df-08fbbff5-70b1-4c1f-a238-5e019a119828');\n",
              "          const dataTable =\n",
              "            await google.colab.kernel.invokeFunction('convertToInteractive',\n",
              "                                                     [key], {});\n",
              "          if (!dataTable) return;\n",
              "\n",
              "          const docLinkHtml = 'Like what you see? Visit the ' +\n",
              "            '<a target=\"_blank\" href=https://colab.research.google.com/notebooks/data_table.ipynb>data table notebook</a>'\n",
              "            + ' to learn more about interactive tables.';\n",
              "          element.innerHTML = '';\n",
              "          dataTable['output_type'] = 'display_data';\n",
              "          await google.colab.output.renderOutput(dataTable, element);\n",
              "          const docLink = document.createElement('div');\n",
              "          docLink.innerHTML = docLinkHtml;\n",
              "          element.appendChild(docLink);\n",
              "        }\n",
              "      </script>\n",
              "    </div>\n",
              "  </div>\n",
              "  "
            ]
          },
          "metadata": {},
          "execution_count": 854
        }
      ],
      "source": [
        "df.dropna(axis=1)"
      ]
    },
    {
      "cell_type": "code",
      "execution_count": null,
      "metadata": {
        "colab": {
          "base_uri": "https://localhost:8080/",
          "height": 415
        },
        "id": "h3hL6CxGid8w",
        "outputId": "17276d50-17d3-4df9-acf4-6aa1d6b18bd1"
      },
      "outputs": [
        {
          "output_type": "execute_result",
          "data": {
            "text/plain": [
              "<matplotlib.axes._subplots.AxesSubplot at 0x7f5c2ca00a00>"
            ]
          },
          "metadata": {},
          "execution_count": 855
        },
        {
          "output_type": "display_data",
          "data": {
            "text/plain": [
              "<Figure size 432x288 with 1 Axes>"
            ],
            "image/png": "[encoded data removed]"
          },
          "metadata": {
            "needs_background": "light"
          }
        }
      ],
      "source": [
        "sbn.heatmap(df.isnull(), cbar=False)"
      ]
    },
    {
      "cell_type": "code",
      "execution_count": null,
      "metadata": {
        "colab": {
          "base_uri": "https://localhost:8080/"
        },
        "id": "bt3NUcfohtTZ",
        "outputId": "d9ac0c22-f2d4-4df3-af86-af87a600ac43"
      },
      "outputs": [
        {
          "output_type": "execute_result",
          "data": {
            "text/plain": [
              "False"
            ]
          },
          "metadata": {},
          "execution_count": 856
        }
      ],
      "source": [
        "df.duplicated().any()"
      ]
    },
    {
      "cell_type": "markdown",
      "metadata": {
        "id": "LyobFzThmaPj"
      },
      "source": [
        "Correlation"
      ]
    },
    {
      "cell_type": "code",
      "execution_count": null,
      "metadata": {
        "colab": {
          "base_uri": "https://localhost:8080/",
          "height": 428
        },
        "id": "Hejkpr55mcM3",
        "outputId": "89961097-ab4a-4b1b-f6ee-bee54d03ad31"
      },
      "outputs": [
        {
          "output_type": "display_data",
          "data": {
            "text/plain": [
              "<Figure size 720x504 with 1 Axes>"
            ],
            "image/png": "[encoded data removed]"
          },
          "metadata": {
            "needs_background": "light"
          }
        }
      ],
      "source": [
        "fig = plt.figure(figsize =(10, 7))\n",
        " \n",
        "# Creating plot\n",
        "plt.boxplot(df.corr())\n",
        "# show plot\n",
        "plt.show()"
      ]
    },
    {
      "cell_type": "code",
      "source": [
        "df.describe()"
      ],
      "metadata": {
        "colab": {
          "base_uri": "https://localhost:8080/",
          "height": 300
        },
        "id": "Q9phGd8OWEAL",
        "outputId": "b5198a67-30aa-456f-8858-f892dbd31dd0"
      },
      "execution_count": null,
      "outputs": [
        {
          "output_type": "execute_result",
          "data": {
            "text/plain": [
              "       student_id       rating    page_count\n",
              "count  1299.00000  1225.000000  1.299000e+03\n",
              "mean    649.00000     4.425224  1.505774e+10\n",
              "std     375.13331     0.392672  3.836029e+11\n",
              "min       0.00000     2.500000  7.000000e+00\n",
              "25%     324.50000     4.200000  1.940000e+02\n",
              "50%     649.00000     4.500000  3.040000e+02\n",
              "75%     973.50000     4.700000  4.160000e+02\n",
              "max    1298.00000     5.000000  9.780000e+12"
            ],
            "text/html": [
              "\n",
              "  <div id=\"df-524007bf-8d35-4482-8e20-9a857e7a01c1\">\n",
              "    <div class=\"colab-df-container\">\n",
              "      <div>\n",
              "<style scoped>\n",
              "    .dataframe tbody tr th:only-of-type {\n",
              "        vertical-align: middle;\n",
              "    }\n",
              "\n",
              "    .dataframe tbody tr th {\n",
              "        vertical-align: top;\n",
              "    }\n",
              "\n",
              "    .dataframe thead th {\n",
              "        text-align: right;\n",
              "    }\n",
              "</style>\n",
              "<table border=\"1\" class=\"dataframe\">\n",
              "  <thead>\n",
              "    <tr style=\"text-align: right;\">\n",
              "      <th></th>\n",
              "      <th>student_id</th>\n",
              "      <th>rating</th>\n",
              "      <th>page_count</th>\n",
              "    </tr>\n",
              "  </thead>\n",
              "  <tbody>\n",
              "    <tr>\n",
              "      <th>count</th>\n",
              "      <td>1299.00000</td>\n",
              "      <td>1225.000000</td>\n",
              "      <td>1.299000e+03</td>\n",
              "    </tr>\n",
              "    <tr>\n",
              "      <th>mean</th>\n",
              "      <td>649.00000</td>\n",
              "      <td>4.425224</td>\n",
              "      <td>1.505774e+10</td>\n",
              "    </tr>\n",
              "    <tr>\n",
              "      <th>std</th>\n",
              "      <td>375.13331</td>\n",
              "      <td>0.392672</td>\n",
              "      <td>3.836029e+11</td>\n",
              "    </tr>\n",
              "    <tr>\n",
              "      <th>min</th>\n",
              "      <td>0.00000</td>\n",
              "      <td>2.500000</td>\n",
              "      <td>7.000000e+00</td>\n",
              "    </tr>\n",
              "    <tr>\n",
              "      <th>25%</th>\n",
              "      <td>324.50000</td>\n",
              "      <td>4.200000</td>\n",
              "      <td>1.940000e+02</td>\n",
              "    </tr>\n",
              "    <tr>\n",
              "      <th>50%</th>\n",
              "      <td>649.00000</td>\n",
              "      <td>4.500000</td>\n",
              "      <td>3.040000e+02</td>\n",
              "    </tr>\n",
              "    <tr>\n",
              "      <th>75%</th>\n",
              "      <td>973.50000</td>\n",
              "      <td>4.700000</td>\n",
              "      <td>4.160000e+02</td>\n",
              "    </tr>\n",
              "    <tr>\n",
              "      <th>max</th>\n",
              "      <td>1298.00000</td>\n",
              "      <td>5.000000</td>\n",
              "      <td>9.780000e+12</td>\n",
              "    </tr>\n",
              "  </tbody>\n",
              "</table>\n",
              "</div>\n",
              "      <button class=\"colab-df-convert\" onclick=\"convertToInteractive('df-524007bf-8d35-4482-8e20-9a857e7a01c1')\"\n",
              "              title=\"Convert this dataframe to an interactive table.\"\n",
              "              style=\"display:none;\">\n",
              "        \n",
              "  <svg xmlns=\"http://www.w3.org/2000/svg\" height=\"24px\"viewBox=\"0 0 24 24\"\n",
              "       width=\"24px\">\n",
              "    <path d=\"M0 0h24v24H0V0z\" fill=\"none\"/>\n",
              "    <path d=\"M18.56 5.44l.94 2.06.94-2.06 2.06-.94-2.06-.94-.94-2.06-.94 2.06-2.06.94zm-11 1L8.5 8.5l.94-2.06 2.06-.94-2.06-.94L8.5 2.5l-.94 2.06-2.06.94zm10 10l.94 2.06.94-2.06 2.06-.94-2.06-.94-.94-2.06-.94 2.06-2.06.94z\"/><path d=\"M17.41 7.96l-1.37-1.37c-.4-.4-.92-.59-1.43-.59-.52 0-1.04.2-1.43.59L10.3 9.45l-7.72 7.72c-.78.78-.78 2.05 0 2.83L4 21.41c.39.39.9.59 1.41.59.51 0 1.02-.2 1.41-.59l7.78-7.78 2.81-2.81c.8-.78.8-2.07 0-2.86zM5.41 20L4 18.59l7.72-7.72 1.47 1.35L5.41 20z\"/>\n",
              "  </svg>\n",
              "      </button>\n",
              "      \n",
              "  <style>\n",
              "    .colab-df-container {\n",
              "      display:flex;\n",
              "      flex-wrap:wrap;\n",
              "      gap: 12px;\n",
              "    }\n",
              "\n",
              "    .colab-df-convert {\n",
              "      background-color: #E8F0FE;\n",
              "      border: none;\n",
              "      border-radius: 50%;\n",
              "      cursor: pointer;\n",
              "      display: none;\n",
              "      fill: #1967D2;\n",
              "      height: 32px;\n",
              "      padding: 0 0 0 0;\n",
              "      width: 32px;\n",
              "    }\n",
              "\n",
              "    .colab-df-convert:hover {\n",
              "      background-color: #E2EBFA;\n",
              "      box-shadow: 0px 1px 2px rgba(60, 64, 67, 0.3), 0px 1px 3px 1px rgba(60, 64, 67, 0.15);\n",
              "      fill: #174EA6;\n",
              "    }\n",
              "\n",
              "    [theme=dark] .colab-df-convert {\n",
              "      background-color: #3B4455;\n",
              "      fill: #D2E3FC;\n",
              "    }\n",
              "\n",
              "    [theme=dark] .colab-df-convert:hover {\n",
              "      background-color: #434B5C;\n",
              "      box-shadow: 0px 1px 3px 1px rgba(0, 0, 0, 0.15);\n",
              "      filter: drop-shadow(0px 1px 2px rgba(0, 0, 0, 0.3));\n",
              "      fill: #FFFFFF;\n",
              "    }\n",
              "  </style>\n",
              "\n",
              "      <script>\n",
              "        const buttonEl =\n",
              "          document.querySelector('#df-524007bf-8d35-4482-8e20-9a857e7a01c1 button.colab-df-convert');\n",
              "        buttonEl.style.display =\n",
              "          google.colab.kernel.accessAllowed ? 'block' : 'none';\n",
              "\n",
              "        async function convertToInteractive(key) {\n",
              "          const element = document.querySelector('#df-524007bf-8d35-4482-8e20-9a857e7a01c1');\n",
              "          const dataTable =\n",
              "            await google.colab.kernel.invokeFunction('convertToInteractive',\n",
              "                                                     [key], {});\n",
              "          if (!dataTable) return;\n",
              "\n",
              "          const docLinkHtml = 'Like what you see? Visit the ' +\n",
              "            '<a target=\"_blank\" href=https://colab.research.google.com/notebooks/data_table.ipynb>data table notebook</a>'\n",
              "            + ' to learn more about interactive tables.';\n",
              "          element.innerHTML = '';\n",
              "          dataTable['output_type'] = 'display_data';\n",
              "          await google.colab.output.renderOutput(dataTable, element);\n",
              "          const docLink = document.createElement('div');\n",
              "          docLink.innerHTML = docLinkHtml;\n",
              "          element.appendChild(docLink);\n",
              "        }\n",
              "      </script>\n",
              "    </div>\n",
              "  </div>\n",
              "  "
            ]
          },
          "metadata": {},
          "execution_count": 858
        }
      ]
    },
    {
      "cell_type": "code",
      "execution_count": null,
      "metadata": {
        "colab": {
          "base_uri": "https://localhost:8080/",
          "height": 297
        },
        "id": "BEFjiModh4Q0",
        "outputId": "a23ffeb6-18ef-4bea-ca4e-ac680dcf5152"
      },
      "outputs": [
        {
          "output_type": "execute_result",
          "data": {
            "text/plain": [
              "<matplotlib.axes._subplots.AxesSubplot at 0x7f5c2bd99220>"
            ]
          },
          "metadata": {},
          "execution_count": 859
        },
        {
          "output_type": "display_data",
          "data": {
            "text/plain": [
              "<Figure size 432x288 with 1 Axes>"
            ],
            "image/png": "[encoded data removed]"
          },
          "metadata": {
            "needs_background": "light"
          }
        }
      ],
      "source": [
        "# find price outliers\n",
        "sbn.boxplot(x=df['page_count'])"
      ]
    },
    {
      "cell_type": "code",
      "execution_count": null,
      "metadata": {
        "colab": {
          "base_uri": "https://localhost:8080/",
          "height": 327
        },
        "id": "iRfUlPm0k-Dc",
        "outputId": "9fab6dab-7eb8-4e84-dc4f-32e7d604fb30"
      },
      "outputs": [
        {
          "output_type": "execute_result",
          "data": {
            "text/plain": [
              "Text(0, 0.5, 'Frequency')"
            ]
          },
          "metadata": {},
          "execution_count": 860
        },
        {
          "output_type": "display_data",
          "data": {
            "text/plain": [
              "<Figure size 432x288 with 1 Axes>"
            ],
            "image/png": "[encoded data removed]"
          },
          "metadata": {
            "needs_background": "light"
          }
        }
      ],
      "source": [
        "# ratings distribution\n",
        "sbn.kdeplot(df['page_count'], shade = True)\n",
        "plt.title('Page Count Distribution\\n')\n",
        "plt.xlabel('Page Count')\n",
        "plt.ylabel('Frequency')"
      ]
    },
    {
      "cell_type": "code",
      "execution_count": null,
      "metadata": {
        "colab": {
          "base_uri": "https://localhost:8080/",
          "height": 510
        },
        "id": "A0Jc9a-2lrZY",
        "outputId": "5d58e42a-f940-4e8a-c8f3-b677d6e22aa9"
      },
      "outputs": [
        {
          "output_type": "execute_result",
          "data": {
            "text/plain": [
              "array([[<matplotlib.axes._subplots.AxesSubplot object at 0x7f5c2bcd1f70>,\n",
              "        <matplotlib.axes._subplots.AxesSubplot object at 0x7f5c2bcf7160>,\n",
              "        <matplotlib.axes._subplots.AxesSubplot object at 0x7f5c2bc9e8e0>,\n",
              "        <matplotlib.axes._subplots.AxesSubplot object at 0x7f5c2bc4a100>,\n",
              "        <matplotlib.axes._subplots.AxesSubplot object at 0x7f5c2bc72820>],\n",
              "       [<matplotlib.axes._subplots.AxesSubplot object at 0x7f5c2bc1ef40>,\n",
              "        <matplotlib.axes._subplots.AxesSubplot object at 0x7f5c2bc2aee0>,\n",
              "        <matplotlib.axes._subplots.AxesSubplot object at 0x7f5c2bbe06a0>,\n",
              "        <matplotlib.axes._subplots.AxesSubplot object at 0x7f5c2bbb6520>,\n",
              "        <matplotlib.axes._subplots.AxesSubplot object at 0x7f5c2bb5fc40>],\n",
              "       [<matplotlib.axes._subplots.AxesSubplot object at 0x7f5c2bb183a0>,\n",
              "        <matplotlib.axes._subplots.AxesSubplot object at 0x7f5c2bac1ac0>,\n",
              "        <matplotlib.axes._subplots.AxesSubplot object at 0x7f5c2ba78220>,\n",
              "        <matplotlib.axes._subplots.AxesSubplot object at 0x7f5c2baa2940>,\n",
              "        <matplotlib.axes._subplots.AxesSubplot object at 0x7f5c2ba5a0a0>]],\n",
              "      dtype=object)"
            ]
          },
          "metadata": {},
          "execution_count": 861
        },
        {
          "output_type": "display_data",
          "data": {
            "text/plain": [
              "<Figure size 1440x720 with 15 Axes>"
            ],
            "image/png": "[encoded data removed]"
          },
          "metadata": {
            "needs_background": "light"
          }
        }
      ],
      "source": [
        "#Graphing Numerical Data\n",
        "\n",
        "df.iloc[:, 1:].plot.density(subplots=True, layout=(3, 5), figsize=(20, 10), sharex = False)\n"
      ]
    },
    {
      "cell_type": "code",
      "execution_count": null,
      "metadata": {
        "colab": {
          "base_uri": "https://localhost:8080/",
          "height": 1000
        },
        "id": "qsHiBnBvoL3_",
        "outputId": "64be428e-9879-4551-a5b7-935273926c38"
      },
      "outputs": [
        {
          "output_type": "execute_result",
          "data": {
            "text/plain": [
              "      index  student_id                                              title  \\\n",
              "0         0           0                         Attack on Titan: Volume 13   \n",
              "1         1           1   Antiques Roadkill: A Trash 'n' Treasures Mystery   \n",
              "2         2           2                     The Art of Super Mario Odyssey   \n",
              "3         3           3     Getting Away Is Deadly: An Ellie Avery Mystery   \n",
              "4         4           4          The Painted Man (The Demon Cycle, Book 1)   \n",
              "...     ...         ...                                                ...   \n",
              "1294   1294        1294  Twas The Nightshift Before Christmas: Festive ...   \n",
              "1295   1295        1295  Why We Sleep: The New Science of Sleep and Dreams   \n",
              "1296   1296        1296      How to Understand Business Finance: Edition 2   \n",
              "1297   1297        1297                     Spider-Man: Kraven's Last Hunt   \n",
              "1298   1298        1298           W is for Wasted: A Kinsey Millhone Novel   \n",
              "\n",
              "               author  rating voters  \\\n",
              "0      Hajime Isayama     4.6    428   \n",
              "1       Barbara Allan     3.3     23   \n",
              "2            Nintendo     3.9      9   \n",
              "3         Sara Rosett     4.0     10   \n",
              "4      Peter V. Brett     4.5    577   \n",
              "...               ...     ...    ...   \n",
              "1294         Adam Kay     4.7     47   \n",
              "1295   Matthew Walker     4.8     52   \n",
              "1296     Bob Cinnamon     3.5      4   \n",
              "1297  J. M. DeMatteis     4.6     74   \n",
              "1298      Sue Grafton     4.3    206   \n",
              "\n",
              "                                            description  \\\n",
              "0     NO SAFE PLACE LEFT At great cost to the Garris...   \n",
              "1     Determined to make a new start in her quaint h...   \n",
              "2     Take a globetrotting journey all over the worl...   \n",
              "3     With swollen feet and swelling belly, pregnant...   \n",
              "4     The stunning debut fantasy novel from author P...   \n",
              "...                                                 ...   \n",
              "1294  A short gift book of festive hospital diaries ...   \n",
              "1295  'Astonishing ... an amazing book ... absolutel...   \n",
              "1296  The modern marketplace is increasingly unpredi...   \n",
              "1297  Collects Web of Spider-Man #31-32, Amazing Spi...   \n",
              "1298  Private investigator Kinsey Millhone finds sho...   \n",
              "\n",
              "                        publisher  page_count  \\\n",
              "0                 Kodansha Comics       192.0   \n",
              "1     Kensington Publishing Corp.       288.0   \n",
              "2               Dark Horse Comics       368.0   \n",
              "3     Kensington Publishing Corp.       320.0   \n",
              "4                HarperCollins UK       544.0   \n",
              "...                           ...         ...   \n",
              "1294                Pan Macmillan       112.0   \n",
              "1295                   Penguin UK       368.0   \n",
              "1296        Kogan Page Publishers       176.0   \n",
              "1297         Marvel Entertainment       168.0   \n",
              "1298                      Penguin       448.0   \n",
              "\n",
              "                                                generes      ISBN language  \\\n",
              "0                                                  none  9.78E+12  English   \n",
              "1     Fiction , Mystery &amp, Detective , Cozy , Gen...  9.78E+12  English   \n",
              "2       Games &amp, Activities , Video &amp, Electronic  9.78E+12  English   \n",
              "3                                                  none  9.78E+12  English   \n",
              "4                      Fiction , Fantasy , Dark Fantasy  9.78E+12  English   \n",
              "...                                                 ...       ...      ...   \n",
              "1294                     Medical , Health Care Delivery  9.78E+12  English   \n",
              "1295  Psychology , Cognitive Psychology &amp, Cognition  9.78E+12  English   \n",
              "1296                                               none  9.78E+12  English   \n",
              "1297                                               none  9.78E+12  English   \n",
              "1298                     Fiction , Thrillers , Suspense  9.78E+12  English   \n",
              "\n",
              "     published_date student_perfomance_grade improvement  \n",
              "0         31-Jul-14                        A         yes  \n",
              "1         01-Jul-07                        A         yes  \n",
              "2         05-Nov-19                        B         yes  \n",
              "3         01-Mar-09                        A         yes  \n",
              "4         08-Jan-09                        C         yes  \n",
              "...             ...                      ...         ...  \n",
              "1294      17-Oct-19                        A          no  \n",
              "1295      28-Sep-17                        A          no  \n",
              "1296      03-Apr-10                        E          no  \n",
              "1297      10-Dec-14                        B         yes  \n",
              "1298      10-Sep-13                        A          no  \n",
              "\n",
              "[1299 rows x 15 columns]"
            ],
            "text/html": [
              "\n",
              "  <div id=\"df-ec0023c2-74a7-4bef-bf2b-19806fab24e6\">\n",
              "    <div class=\"colab-df-container\">\n",
              "      <div>\n",
              "<style scoped>\n",
              "    .dataframe tbody tr th:only-of-type {\n",
              "        vertical-align: middle;\n",
              "    }\n",
              "\n",
              "    .dataframe tbody tr th {\n",
              "        vertical-align: top;\n",
              "    }\n",
              "\n",
              "    .dataframe thead th {\n",
              "        text-align: right;\n",
              "    }\n",
              "</style>\n",
              "<table border=\"1\" class=\"dataframe\">\n",
              "  <thead>\n",
              "    <tr style=\"text-align: right;\">\n",
              "      <th></th>\n",
              "      <th>index</th>\n",
              "      <th>student_id</th>\n",
              "      <th>title</th>\n",
              "      <th>author</th>\n",
              "      <th>rating</th>\n",
              "      <th>voters</th>\n",
              "      <th>description</th>\n",
              "      <th>publisher</th>\n",
              "      <th>page_count</th>\n",
              "      <th>generes</th>\n",
              "      <th>ISBN</th>\n",
              "      <th>language</th>\n",
              "      <th>published_date</th>\n",
              "      <th>student_perfomance_grade</th>\n",
              "      <th>improvement</th>\n",
              "    </tr>\n",
              "  </thead>\n",
              "  <tbody>\n",
              "    <tr>\n",
              "      <th>0</th>\n",
              "      <td>0</td>\n",
              "      <td>0</td>\n",
              "      <td>Attack on Titan: Volume 13</td>\n",
              "      <td>Hajime Isayama</td>\n",
              "      <td>4.6</td>\n",
              "      <td>428</td>\n",
              "      <td>NO SAFE PLACE LEFT At great cost to the Garris...</td>\n",
              "      <td>Kodansha Comics</td>\n",
              "      <td>192.0</td>\n",
              "      <td>none</td>\n",
              "      <td>9.78E+12</td>\n",
              "      <td>English</td>\n",
              "      <td>31-Jul-14</td>\n",
              "      <td>A</td>\n",
              "      <td>yes</td>\n",
              "    </tr>\n",
              "    <tr>\n",
              "      <th>1</th>\n",
              "      <td>1</td>\n",
              "      <td>1</td>\n",
              "      <td>Antiques Roadkill: A Trash 'n' Treasures Mystery</td>\n",
              "      <td>Barbara Allan</td>\n",
              "      <td>3.3</td>\n",
              "      <td>23</td>\n",
              "      <td>Determined to make a new start in her quaint h...</td>\n",
              "      <td>Kensington Publishing Corp.</td>\n",
              "      <td>288.0</td>\n",
              "      <td>Fiction , Mystery &amp;amp, Detective , Cozy , Gen...</td>\n",
              "      <td>9.78E+12</td>\n",
              "      <td>English</td>\n",
              "      <td>01-Jul-07</td>\n",
              "      <td>A</td>\n",
              "      <td>yes</td>\n",
              "    </tr>\n",
              "    <tr>\n",
              "      <th>2</th>\n",
              "      <td>2</td>\n",
              "      <td>2</td>\n",
              "      <td>The Art of Super Mario Odyssey</td>\n",
              "      <td>Nintendo</td>\n",
              "      <td>3.9</td>\n",
              "      <td>9</td>\n",
              "      <td>Take a globetrotting journey all over the worl...</td>\n",
              "      <td>Dark Horse Comics</td>\n",
              "      <td>368.0</td>\n",
              "      <td>Games &amp;amp, Activities , Video &amp;amp, Electronic</td>\n",
              "      <td>9.78E+12</td>\n",
              "      <td>English</td>\n",
              "      <td>05-Nov-19</td>\n",
              "      <td>B</td>\n",
              "      <td>yes</td>\n",
              "    </tr>\n",
              "    <tr>\n",
              "      <th>3</th>\n",
              "      <td>3</td>\n",
              "      <td>3</td>\n",
              "      <td>Getting Away Is Deadly: An Ellie Avery Mystery</td>\n",
              "      <td>Sara Rosett</td>\n",
              "      <td>4.0</td>\n",
              "      <td>10</td>\n",
              "      <td>With swollen feet and swelling belly, pregnant...</td>\n",
              "      <td>Kensington Publishing Corp.</td>\n",
              "      <td>320.0</td>\n",
              "      <td>none</td>\n",
              "      <td>9.78E+12</td>\n",
              "      <td>English</td>\n",
              "      <td>01-Mar-09</td>\n",
              "      <td>A</td>\n",
              "      <td>yes</td>\n",
              "    </tr>\n",
              "    <tr>\n",
              "      <th>4</th>\n",
              "      <td>4</td>\n",
              "      <td>4</td>\n",
              "      <td>The Painted Man (The Demon Cycle, Book 1)</td>\n",
              "      <td>Peter V. Brett</td>\n",
              "      <td>4.5</td>\n",
              "      <td>577</td>\n",
              "      <td>The stunning debut fantasy novel from author P...</td>\n",
              "      <td>HarperCollins UK</td>\n",
              "      <td>544.0</td>\n",
              "      <td>Fiction , Fantasy , Dark Fantasy</td>\n",
              "      <td>9.78E+12</td>\n",
              "      <td>English</td>\n",
              "      <td>08-Jan-09</td>\n",
              "      <td>C</td>\n",
              "      <td>yes</td>\n",
              "    </tr>\n",
              "    <tr>\n",
              "      <th>...</th>\n",
              "      <td>...</td>\n",
              "      <td>...</td>\n",
              "      <td>...</td>\n",
              "      <td>...</td>\n",
              "      <td>...</td>\n",
              "      <td>...</td>\n",
              "      <td>...</td>\n",
              "      <td>...</td>\n",
              "      <td>...</td>\n",
              "      <td>...</td>\n",
              "      <td>...</td>\n",
              "      <td>...</td>\n",
              "      <td>...</td>\n",
              "      <td>...</td>\n",
              "      <td>...</td>\n",
              "    </tr>\n",
              "    <tr>\n",
              "      <th>1294</th>\n",
              "      <td>1294</td>\n",
              "      <td>1294</td>\n",
              "      <td>Twas The Nightshift Before Christmas: Festive ...</td>\n",
              "      <td>Adam Kay</td>\n",
              "      <td>4.7</td>\n",
              "      <td>47</td>\n",
              "      <td>A short gift book of festive hospital diaries ...</td>\n",
              "      <td>Pan Macmillan</td>\n",
              "      <td>112.0</td>\n",
              "      <td>Medical , Health Care Delivery</td>\n",
              "      <td>9.78E+12</td>\n",
              "      <td>English</td>\n",
              "      <td>17-Oct-19</td>\n",
              "      <td>A</td>\n",
              "      <td>no</td>\n",
              "    </tr>\n",
              "    <tr>\n",
              "      <th>1295</th>\n",
              "      <td>1295</td>\n",
              "      <td>1295</td>\n",
              "      <td>Why We Sleep: The New Science of Sleep and Dreams</td>\n",
              "      <td>Matthew Walker</td>\n",
              "      <td>4.8</td>\n",
              "      <td>52</td>\n",
              "      <td>'Astonishing ... an amazing book ... absolutel...</td>\n",
              "      <td>Penguin UK</td>\n",
              "      <td>368.0</td>\n",
              "      <td>Psychology , Cognitive Psychology &amp;amp, Cognition</td>\n",
              "      <td>9.78E+12</td>\n",
              "      <td>English</td>\n",
              "      <td>28-Sep-17</td>\n",
              "      <td>A</td>\n",
              "      <td>no</td>\n",
              "    </tr>\n",
              "    <tr>\n",
              "      <th>1296</th>\n",
              "      <td>1296</td>\n",
              "      <td>1296</td>\n",
              "      <td>How to Understand Business Finance: Edition 2</td>\n",
              "      <td>Bob Cinnamon</td>\n",
              "      <td>3.5</td>\n",
              "      <td>4</td>\n",
              "      <td>The modern marketplace is increasingly unpredi...</td>\n",
              "      <td>Kogan Page Publishers</td>\n",
              "      <td>176.0</td>\n",
              "      <td>none</td>\n",
              "      <td>9.78E+12</td>\n",
              "      <td>English</td>\n",
              "      <td>03-Apr-10</td>\n",
              "      <td>E</td>\n",
              "      <td>no</td>\n",
              "    </tr>\n",
              "    <tr>\n",
              "      <th>1297</th>\n",
              "      <td>1297</td>\n",
              "      <td>1297</td>\n",
              "      <td>Spider-Man: Kraven's Last Hunt</td>\n",
              "      <td>J. M. DeMatteis</td>\n",
              "      <td>4.6</td>\n",
              "      <td>74</td>\n",
              "      <td>Collects Web of Spider-Man #31-32, Amazing Spi...</td>\n",
              "      <td>Marvel Entertainment</td>\n",
              "      <td>168.0</td>\n",
              "      <td>none</td>\n",
              "      <td>9.78E+12</td>\n",
              "      <td>English</td>\n",
              "      <td>10-Dec-14</td>\n",
              "      <td>B</td>\n",
              "      <td>yes</td>\n",
              "    </tr>\n",
              "    <tr>\n",
              "      <th>1298</th>\n",
              "      <td>1298</td>\n",
              "      <td>1298</td>\n",
              "      <td>W is for Wasted: A Kinsey Millhone Novel</td>\n",
              "      <td>Sue Grafton</td>\n",
              "      <td>4.3</td>\n",
              "      <td>206</td>\n",
              "      <td>Private investigator Kinsey Millhone finds sho...</td>\n",
              "      <td>Penguin</td>\n",
              "      <td>448.0</td>\n",
              "      <td>Fiction , Thrillers , Suspense</td>\n",
              "      <td>9.78E+12</td>\n",
              "      <td>English</td>\n",
              "      <td>10-Sep-13</td>\n",
              "      <td>A</td>\n",
              "      <td>no</td>\n",
              "    </tr>\n",
              "  </tbody>\n",
              "</table>\n",
              "<p>1299 rows × 15 columns</p>\n",
              "</div>\n",
              "      <button class=\"colab-df-convert\" onclick=\"convertToInteractive('df-ec0023c2-74a7-4bef-bf2b-19806fab24e6')\"\n",
              "              title=\"Convert this dataframe to an interactive table.\"\n",
              "              style=\"display:none;\">\n",
              "        \n",
              "  <svg xmlns=\"http://www.w3.org/2000/svg\" height=\"24px\"viewBox=\"0 0 24 24\"\n",
              "       width=\"24px\">\n",
              "    <path d=\"M0 0h24v24H0V0z\" fill=\"none\"/>\n",
              "    <path d=\"M18.56 5.44l.94 2.06.94-2.06 2.06-.94-2.06-.94-.94-2.06-.94 2.06-2.06.94zm-11 1L8.5 8.5l.94-2.06 2.06-.94-2.06-.94L8.5 2.5l-.94 2.06-2.06.94zm10 10l.94 2.06.94-2.06 2.06-.94-2.06-.94-.94-2.06-.94 2.06-2.06.94z\"/><path d=\"M17.41 7.96l-1.37-1.37c-.4-.4-.92-.59-1.43-.59-.52 0-1.04.2-1.43.59L10.3 9.45l-7.72 7.72c-.78.78-.78 2.05 0 2.83L4 21.41c.39.39.9.59 1.41.59.51 0 1.02-.2 1.41-.59l7.78-7.78 2.81-2.81c.8-.78.8-2.07 0-2.86zM5.41 20L4 18.59l7.72-7.72 1.47 1.35L5.41 20z\"/>\n",
              "  </svg>\n",
              "      </button>\n",
              "      \n",
              "  <style>\n",
              "    .colab-df-container {\n",
              "      display:flex;\n",
              "      flex-wrap:wrap;\n",
              "      gap: 12px;\n",
              "    }\n",
              "\n",
              "    .colab-df-convert {\n",
              "      background-color: #E8F0FE;\n",
              "      border: none;\n",
              "      border-radius: 50%;\n",
              "      cursor: pointer;\n",
              "      display: none;\n",
              "      fill: #1967D2;\n",
              "      height: 32px;\n",
              "      padding: 0 0 0 0;\n",
              "      width: 32px;\n",
              "    }\n",
              "\n",
              "    .colab-df-convert:hover {\n",
              "      background-color: #E2EBFA;\n",
              "      box-shadow: 0px 1px 2px rgba(60, 64, 67, 0.3), 0px 1px 3px 1px rgba(60, 64, 67, 0.15);\n",
              "      fill: #174EA6;\n",
              "    }\n",
              "\n",
              "    [theme=dark] .colab-df-convert {\n",
              "      background-color: #3B4455;\n",
              "      fill: #D2E3FC;\n",
              "    }\n",
              "\n",
              "    [theme=dark] .colab-df-convert:hover {\n",
              "      background-color: #434B5C;\n",
              "      box-shadow: 0px 1px 3px 1px rgba(0, 0, 0, 0.15);\n",
              "      filter: drop-shadow(0px 1px 2px rgba(0, 0, 0, 0.3));\n",
              "      fill: #FFFFFF;\n",
              "    }\n",
              "  </style>\n",
              "\n",
              "      <script>\n",
              "        const buttonEl =\n",
              "          document.querySelector('#df-ec0023c2-74a7-4bef-bf2b-19806fab24e6 button.colab-df-convert');\n",
              "        buttonEl.style.display =\n",
              "          google.colab.kernel.accessAllowed ? 'block' : 'none';\n",
              "\n",
              "        async function convertToInteractive(key) {\n",
              "          const element = document.querySelector('#df-ec0023c2-74a7-4bef-bf2b-19806fab24e6');\n",
              "          const dataTable =\n",
              "            await google.colab.kernel.invokeFunction('convertToInteractive',\n",
              "                                                     [key], {});\n",
              "          if (!dataTable) return;\n",
              "\n",
              "          const docLinkHtml = 'Like what you see? Visit the ' +\n",
              "            '<a target=\"_blank\" href=https://colab.research.google.com/notebooks/data_table.ipynb>data table notebook</a>'\n",
              "            + ' to learn more about interactive tables.';\n",
              "          element.innerHTML = '';\n",
              "          dataTable['output_type'] = 'display_data';\n",
              "          await google.colab.output.renderOutput(dataTable, element);\n",
              "          const docLink = document.createElement('div');\n",
              "          docLink.innerHTML = docLinkHtml;\n",
              "          element.appendChild(docLink);\n",
              "        }\n",
              "      </script>\n",
              "    </div>\n",
              "  </div>\n",
              "  "
            ]
          },
          "metadata": {},
          "execution_count": 862
        }
      ],
      "source": [
        "df.reset_index()"
      ]
    },
    {
      "cell_type": "code",
      "execution_count": null,
      "metadata": {
        "colab": {
          "base_uri": "https://localhost:8080/"
        },
        "id": "D-69f8v6oTZv",
        "outputId": "38e513df-93d6-4d63-8116-238045400a5e"
      },
      "outputs": [
        {
          "output_type": "stream",
          "name": "stdout",
          "text": [
            "<class 'pandas.core.frame.DataFrame'>\n",
            "RangeIndex: 1299 entries, 0 to 1298\n",
            "Data columns (total 14 columns):\n",
            " #   Column                    Non-Null Count  Dtype  \n",
            "---  ------                    --------------  -----  \n",
            " 0   student_id                1299 non-null   int64  \n",
            " 1   title                     1299 non-null   object \n",
            " 2   author                    1299 non-null   object \n",
            " 3   rating                    1225 non-null   float64\n",
            " 4   voters                    1224 non-null   object \n",
            " 5   description               1296 non-null   object \n",
            " 6   publisher                 1299 non-null   object \n",
            " 7   page_count                1299 non-null   float64\n",
            " 8   generes                   1299 non-null   object \n",
            " 9   ISBN                      1299 non-null   object \n",
            " 10  language                  1299 non-null   object \n",
            " 11  published_date            1299 non-null   object \n",
            " 12  student_perfomance_grade  1299 non-null   object \n",
            " 13  improvement               1299 non-null   object \n",
            "dtypes: float64(2), int64(1), object(11)\n",
            "memory usage: 142.2+ KB\n"
          ]
        }
      ],
      "source": [
        "df.info()"
      ]
    },
    {
      "cell_type": "code",
      "execution_count": null,
      "metadata": {
        "colab": {
          "base_uri": "https://localhost:8080/",
          "height": 283
        },
        "id": "IHW4TlOEmnt0",
        "outputId": "0f13880c-4e39-4b97-f0c3-11cb49aad44e"
      },
      "outputs": [
        {
          "output_type": "execute_result",
          "data": {
            "text/plain": [
              "<matplotlib.axes._subplots.AxesSubplot at 0x7f5c2b9ccbe0>"
            ]
          },
          "metadata": {},
          "execution_count": 864
        },
        {
          "output_type": "display_data",
          "data": {
            "text/plain": [
              "<Figure size 432x288 with 1 Axes>"
            ],
            "image/png": "[encoded data removed]"
          },
          "metadata": {
            "needs_background": "light"
          }
        }
      ],
      "source": [
        "df['student_perfomance_grade'].value_counts().plot(kind='bar')"
      ]
    },
    {
      "cell_type": "code",
      "execution_count": null,
      "metadata": {
        "colab": {
          "base_uri": "https://localhost:8080/",
          "height": 265
        },
        "id": "mg1pYWrrt_0Q",
        "outputId": "54809400-ed1b-460f-e625-5f95d3bd6105"
      },
      "outputs": [
        {
          "output_type": "execute_result",
          "data": {
            "text/plain": [
              "<matplotlib.axes._subplots.AxesSubplot at 0x7f5c2b8df0d0>"
            ]
          },
          "metadata": {},
          "execution_count": 865
        },
        {
          "output_type": "display_data",
          "data": {
            "text/plain": [
              "<Figure size 432x288 with 1 Axes>"
            ],
            "image/png": "[encoded data removed]"
          },
          "metadata": {}
        }
      ],
      "source": [
        "df['improvement'].value_counts().plot(kind='pie', autopct='%1.1f%%')"
      ]
    },
    {
      "cell_type": "code",
      "execution_count": null,
      "metadata": {
        "colab": {
          "base_uri": "https://localhost:8080/",
          "height": 388
        },
        "id": "Sm9QSs1mvqwa",
        "outputId": "fdc436d5-3063-41b0-d763-736dd53b9671"
      },
      "outputs": [
        {
          "output_type": "execute_result",
          "data": {
            "text/plain": [
              "<matplotlib.axes._subplots.AxesSubplot at 0x7f5c2b976f40>"
            ]
          },
          "metadata": {},
          "execution_count": 866
        },
        {
          "output_type": "display_data",
          "data": {
            "text/plain": [
              "<Figure size 936x360 with 1 Axes>"
            ],
            "image/png": "[encoded data removed]"
          },
          "metadata": {
            "needs_background": "light"
          }
        }
      ],
      "source": [
        "fig = plt.figure(figsize = (13, 5))\n",
        "yesdf=df.loc[df['improvement'] == 'yes']\n",
        "yesdf.groupby('rating')['improvement'].value_counts().plot(kind='bar')\n",
        "\n",
        "\n"
      ]
    },
    {
      "cell_type": "markdown",
      "metadata": {
        "id": "sggRVy7yzdgH"
      },
      "source": [
        "Data spliting"
      ]
    },
    {
      "cell_type": "code",
      "execution_count": null,
      "metadata": {
        "id": "NeShVWbG1RK5"
      },
      "outputs": [],
      "source": [
        "# encode publisher column\n",
        "le = preprocessing.LabelEncoder()\n",
        "df['publisher'] = le.fit_transform(df['publisher'])"
      ]
    },
    {
      "cell_type": "code",
      "execution_count": null,
      "metadata": {
        "id": "J_lrpyxM1VMp"
      },
      "outputs": [],
      "source": []
    },
    {
      "cell_type": "code",
      "execution_count": null,
      "metadata": {
        "id": "HJOITA2f1aH2"
      },
      "outputs": [],
      "source": [
        "# encode description column\n",
        "le = preprocessing.LabelEncoder()\n",
        "df['description'] = le.fit_transform(df['description'])\n",
        "# encode authors column\n",
        "df['author'] = le.fit_transform(df['author'])\n",
        "# encode generes column\n",
        "df['generes'] = le.fit_transform(df['generes'])\n",
        "# encode published column\n",
        "df['published_date'] = le.fit_transform(df['published_date'])\n",
        "# encode title column\n",
        "df['title'] = le.fit_transform(df['title'])\n",
        "# encode language column\n",
        "df['language'] = le.fit_transform(df['language'])\n",
        "# encode rating column\n",
        "df['rating'] = le.fit_transform(df['rating'])\n",
        "# encode  page_count column\n",
        "df['page_count'] = le.fit_transform(df['page_count'])\n",
        "# encode  voters column\n",
        "df['voters'] = le.fit_transform(df['voters'])\n",
        "# encode  voters column\n",
        "df['student_perfomance_grade'] = le.fit_transform(df['student_perfomance_grade'])\n",
        "# encode  ISBN column\n",
        "df['ISBN'] = le.fit_transform(df['ISBN'])"
      ]
    },
    {
      "cell_type": "code",
      "execution_count": null,
      "metadata": {
        "id": "zxxXOSj81l69",
        "colab": {
          "base_uri": "https://localhost:8080/"
        },
        "outputId": "8eb63574-28e8-4233-d6aa-2980139c4632"
      },
      "outputs": [
        {
          "output_type": "execute_result",
          "data": {
            "text/plain": [
              "(1299, 14)"
            ]
          },
          "metadata": {},
          "execution_count": 869
        }
      ],
      "source": [
        "# encode authors column\n",
        "# df['ISBN'] = le.fit_transform(df['ISBN'])\n",
        "df.shape"
      ]
    },
    {
      "cell_type": "code",
      "execution_count": null,
      "metadata": {
        "id": "eM9qWTpVxslr"
      },
      "outputs": [],
      "source": [
        "y= df['improvement']\n",
        "df.drop(['improvement','ISBN','author','generes','language'], axis=1, inplace=True)\n"
      ]
    },
    {
      "cell_type": "code",
      "execution_count": null,
      "metadata": {
        "id": "GyBw_Kzhz4ng"
      },
      "outputs": [],
      "source": [
        "#x=pd.get_dummies(X)\n"
      ]
    },
    {
      "cell_type": "code",
      "execution_count": null,
      "metadata": {
        "id": "NU4Djns-zbaO"
      },
      "outputs": [],
      "source": [
        "from sklearn.model_selection import train_test_split\n",
        "x_train, x_test, y_train, y_test  = train_test_split(df,y, test_size = 0.2, random_state = 0)"
      ]
    },
    {
      "cell_type": "code",
      "execution_count": null,
      "metadata": {
        "id": "4U9hStVp0sGq"
      },
      "outputs": [],
      "source": [
        "from sklearn.tree import DecisionTreeClassifier\n",
        "# Create Decision Tree classifer object\n",
        "clf = DecisionTreeClassifier()\n",
        "\n",
        "# Train Decision Tree Classifer\n",
        "clf = clf.fit(x_train,y_train)\n",
        "\n",
        "#Predict the response for test dataset\n",
        "y_pred = clf.predict(x_test)"
      ]
    },
    {
      "cell_type": "code",
      "execution_count": null,
      "metadata": {
        "id": "VZIK2X-d07Qa",
        "colab": {
          "base_uri": "https://localhost:8080/",
          "height": 363
        },
        "outputId": "d89d96d9-a09e-490a-c580-144871a62e07"
      },
      "outputs": [
        {
          "output_type": "execute_result",
          "data": {
            "text/plain": [
              "  Actual Predicted\n",
              "0     no       yes\n",
              "1     no        no\n",
              "2     no        no\n",
              "3    yes        no\n",
              "4    yes        no\n",
              "5     no       yes\n",
              "6    yes       yes\n",
              "7    yes       yes\n",
              "8    yes        no\n",
              "9    yes       yes"
            ],
            "text/html": [
              "\n",
              "  <div id=\"df-7a31e50a-04c3-42be-b7c7-416eaa043d66\">\n",
              "    <div class=\"colab-df-container\">\n",
              "      <div>\n",
              "<style scoped>\n",
              "    .dataframe tbody tr th:only-of-type {\n",
              "        vertical-align: middle;\n",
              "    }\n",
              "\n",
              "    .dataframe tbody tr th {\n",
              "        vertical-align: top;\n",
              "    }\n",
              "\n",
              "    .dataframe thead th {\n",
              "        text-align: right;\n",
              "    }\n",
              "</style>\n",
              "<table border=\"1\" class=\"dataframe\">\n",
              "  <thead>\n",
              "    <tr style=\"text-align: right;\">\n",
              "      <th></th>\n",
              "      <th>Actual</th>\n",
              "      <th>Predicted</th>\n",
              "    </tr>\n",
              "  </thead>\n",
              "  <tbody>\n",
              "    <tr>\n",
              "      <th>0</th>\n",
              "      <td>no</td>\n",
              "      <td>yes</td>\n",
              "    </tr>\n",
              "    <tr>\n",
              "      <th>1</th>\n",
              "      <td>no</td>\n",
              "      <td>no</td>\n",
              "    </tr>\n",
              "    <tr>\n",
              "      <th>2</th>\n",
              "      <td>no</td>\n",
              "      <td>no</td>\n",
              "    </tr>\n",
              "    <tr>\n",
              "      <th>3</th>\n",
              "      <td>yes</td>\n",
              "      <td>no</td>\n",
              "    </tr>\n",
              "    <tr>\n",
              "      <th>4</th>\n",
              "      <td>yes</td>\n",
              "      <td>no</td>\n",
              "    </tr>\n",
              "    <tr>\n",
              "      <th>5</th>\n",
              "      <td>no</td>\n",
              "      <td>yes</td>\n",
              "    </tr>\n",
              "    <tr>\n",
              "      <th>6</th>\n",
              "      <td>yes</td>\n",
              "      <td>yes</td>\n",
              "    </tr>\n",
              "    <tr>\n",
              "      <th>7</th>\n",
              "      <td>yes</td>\n",
              "      <td>yes</td>\n",
              "    </tr>\n",
              "    <tr>\n",
              "      <th>8</th>\n",
              "      <td>yes</td>\n",
              "      <td>no</td>\n",
              "    </tr>\n",
              "    <tr>\n",
              "      <th>9</th>\n",
              "      <td>yes</td>\n",
              "      <td>yes</td>\n",
              "    </tr>\n",
              "  </tbody>\n",
              "</table>\n",
              "</div>\n",
              "      <button class=\"colab-df-convert\" onclick=\"convertToInteractive('df-7a31e50a-04c3-42be-b7c7-416eaa043d66')\"\n",
              "              title=\"Convert this dataframe to an interactive table.\"\n",
              "              style=\"display:none;\">\n",
              "        \n",
              "  <svg xmlns=\"http://www.w3.org/2000/svg\" height=\"24px\"viewBox=\"0 0 24 24\"\n",
              "       width=\"24px\">\n",
              "    <path d=\"M0 0h24v24H0V0z\" fill=\"none\"/>\n",
              "    <path d=\"M18.56 5.44l.94 2.06.94-2.06 2.06-.94-2.06-.94-.94-2.06-.94 2.06-2.06.94zm-11 1L8.5 8.5l.94-2.06 2.06-.94-2.06-.94L8.5 2.5l-.94 2.06-2.06.94zm10 10l.94 2.06.94-2.06 2.06-.94-2.06-.94-.94-2.06-.94 2.06-2.06.94z\"/><path d=\"M17.41 7.96l-1.37-1.37c-.4-.4-.92-.59-1.43-.59-.52 0-1.04.2-1.43.59L10.3 9.45l-7.72 7.72c-.78.78-.78 2.05 0 2.83L4 21.41c.39.39.9.59 1.41.59.51 0 1.02-.2 1.41-.59l7.78-7.78 2.81-2.81c.8-.78.8-2.07 0-2.86zM5.41 20L4 18.59l7.72-7.72 1.47 1.35L5.41 20z\"/>\n",
              "  </svg>\n",
              "      </button>\n",
              "      \n",
              "  <style>\n",
              "    .colab-df-container {\n",
              "      display:flex;\n",
              "      flex-wrap:wrap;\n",
              "      gap: 12px;\n",
              "    }\n",
              "\n",
              "    .colab-df-convert {\n",
              "      background-color: #E8F0FE;\n",
              "      border: none;\n",
              "      border-radius: 50%;\n",
              "      cursor: pointer;\n",
              "      display: none;\n",
              "      fill: #1967D2;\n",
              "      height: 32px;\n",
              "      padding: 0 0 0 0;\n",
              "      width: 32px;\n",
              "    }\n",
              "\n",
              "    .colab-df-convert:hover {\n",
              "      background-color: #E2EBFA;\n",
              "      box-shadow: 0px 1px 2px rgba(60, 64, 67, 0.3), 0px 1px 3px 1px rgba(60, 64, 67, 0.15);\n",
              "      fill: #174EA6;\n",
              "    }\n",
              "\n",
              "    [theme=dark] .colab-df-convert {\n",
              "      background-color: #3B4455;\n",
              "      fill: #D2E3FC;\n",
              "    }\n",
              "\n",
              "    [theme=dark] .colab-df-convert:hover {\n",
              "      background-color: #434B5C;\n",
              "      box-shadow: 0px 1px 3px 1px rgba(0, 0, 0, 0.15);\n",
              "      filter: drop-shadow(0px 1px 2px rgba(0, 0, 0, 0.3));\n",
              "      fill: #FFFFFF;\n",
              "    }\n",
              "  </style>\n",
              "\n",
              "      <script>\n",
              "        const buttonEl =\n",
              "          document.querySelector('#df-7a31e50a-04c3-42be-b7c7-416eaa043d66 button.colab-df-convert');\n",
              "        buttonEl.style.display =\n",
              "          google.colab.kernel.accessAllowed ? 'block' : 'none';\n",
              "\n",
              "        async function convertToInteractive(key) {\n",
              "          const element = document.querySelector('#df-7a31e50a-04c3-42be-b7c7-416eaa043d66');\n",
              "          const dataTable =\n",
              "            await google.colab.kernel.invokeFunction('convertToInteractive',\n",
              "                                                     [key], {});\n",
              "          if (!dataTable) return;\n",
              "\n",
              "          const docLinkHtml = 'Like what you see? Visit the ' +\n",
              "            '<a target=\"_blank\" href=https://colab.research.google.com/notebooks/data_table.ipynb>data table notebook</a>'\n",
              "            + ' to learn more about interactive tables.';\n",
              "          element.innerHTML = '';\n",
              "          dataTable['output_type'] = 'display_data';\n",
              "          await google.colab.output.renderOutput(dataTable, element);\n",
              "          const docLink = document.createElement('div');\n",
              "          docLink.innerHTML = docLinkHtml;\n",
              "          element.appendChild(docLink);\n",
              "        }\n",
              "      </script>\n",
              "    </div>\n",
              "  </div>\n",
              "  "
            ]
          },
          "metadata": {},
          "execution_count": 874
        }
      ],
      "source": [
        "pred = pd.DataFrame({'Actual':y_test.tolist(),'Predicted':y_pred.tolist()}).head(25)\n",
        "pred.head(10)"
      ]
    },
    {
      "cell_type": "code",
      "execution_count": null,
      "metadata": {
        "id": "qRh1mqXS00ZJ",
        "colab": {
          "base_uri": "https://localhost:8080/"
        },
        "outputId": "33c6ff82-17dc-45e9-9b37-3e978c2ac59f"
      },
      "outputs": [
        {
          "output_type": "stream",
          "name": "stdout",
          "text": [
            "Accuracy: 0.5423076923076923\n"
          ]
        }
      ],
      "source": [
        "# Model Accuracy, how often is the classifier correct?\n",
        "from sklearn import metrics\n",
        "print(\"Accuracy:\",metrics.accuracy_score(y_test, y_pred))"
      ]
    },
    {
      "cell_type": "code",
      "source": [
        "from sklearn.linear_model import LogisticRegression\n",
        "from sklearn.metrics import accuracy_score\n",
        "from sklearn.metrics import classification_report\n",
        "\n",
        "LR = LogisticRegression()\n",
        "LR.fit(x_train, y_train)\n",
        "\n",
        "y_predict = LR.predict(x_test)\n",
        "\n",
        "#  prediction Summary by species\n",
        "print(classification_report(y_test, y_predict))\n",
        "\n",
        "# Accuracy score\n",
        "LR_SC = accuracy_score(y_predict,y_test)\n",
        "print('accuracy is',accuracy_score(y_predict,y_test))"
      ],
      "metadata": {
        "colab": {
          "base_uri": "https://localhost:8080/"
        },
        "id": "lLhCcET0GG2u",
        "outputId": "4c4bfe6c-8689-4595-e0b3-2f9eb9bbea8a"
      },
      "execution_count": null,
      "outputs": [
        {
          "output_type": "stream",
          "name": "stdout",
          "text": [
            "              precision    recall  f1-score   support\n",
            "\n",
            "          no       0.46      0.35      0.40       108\n",
            "         yes       0.60      0.70      0.65       152\n",
            "\n",
            "    accuracy                           0.56       260\n",
            "   macro avg       0.53      0.53      0.52       260\n",
            "weighted avg       0.54      0.56      0.55       260\n",
            "\n",
            "accuracy is 0.5576923076923077\n"
          ]
        },
        {
          "output_type": "stream",
          "name": "stderr",
          "text": [
            "/usr/local/lib/python3.8/dist-packages/sklearn/linear_model/_logistic.py:814: ConvergenceWarning: lbfgs failed to converge (status=1):\n",
            "STOP: TOTAL NO. of ITERATIONS REACHED LIMIT.\n",
            "\n",
            "Increase the number of iterations (max_iter) or scale the data as shown in:\n",
            "    https://scikit-learn.org/stable/modules/preprocessing.html\n",
            "Please also refer to the documentation for alternative solver options:\n",
            "    https://scikit-learn.org/stable/modules/linear_model.html#logistic-regression\n",
            "  n_iter_i = _check_optimize_result(\n"
          ]
        }
      ]
    },
    {
      "cell_type": "code",
      "source": [
        "from sklearn.ensemble import RandomForestClassifier\n",
        "RF = RandomForestClassifier()\n",
        "RF.fit(x_train, y_train)\n",
        "\n",
        "y_predict = RF.predict(x_test)\n",
        "\n",
        "#  prediction Summary by species\n",
        "print(classification_report(y_test, y_predict))\n",
        "\n",
        "# Accuracy score\n",
        "RF_SC = accuracy_score(y_predict,y_test)\n",
        "print(f\"{round(RF_SC*100,2)}% Accurate\")"
      ],
      "metadata": {
        "colab": {
          "base_uri": "https://localhost:8080/"
        },
        "id": "8tTh8t86G0Ao",
        "outputId": "53b9c1db-1840-4019-a9fc-61fa34608210"
      },
      "execution_count": null,
      "outputs": [
        {
          "output_type": "stream",
          "name": "stdout",
          "text": [
            "              precision    recall  f1-score   support\n",
            "\n",
            "          no       0.49      0.50      0.50       108\n",
            "         yes       0.64      0.63      0.64       152\n",
            "\n",
            "    accuracy                           0.58       260\n",
            "   macro avg       0.57      0.57      0.57       260\n",
            "weighted avg       0.58      0.58      0.58       260\n",
            "\n",
            "57.69% Accurate\n"
          ]
        }
      ]
    }
  ],
  "metadata": {
    "colab": {
      "provenance": []
    },
    "kernelspec": {
      "display_name": "Python 3",
      "name": "python3"
    },
    "language_info": {
      "name": "python"
    },
    "accelerator": "GPU",
    "gpuClass": "standard"
  },
  "nbformat": 4,
  "nbformat_minor": 0
}